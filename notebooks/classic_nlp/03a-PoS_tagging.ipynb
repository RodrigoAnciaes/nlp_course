{
 "cells": [
  {
   "cell_type": "markdown",
   "metadata": {},
   "source": [
    "# Part-of-Speech Tagging\n",
    "\n",
    "Part-of-speech tagging is the task of identifying the grammatical classes of words in a sentence. In this class, we will use the concept of n-grams to help us automatically identify grammatical classes.\n",
    "\n",
    "## Exercise 1\n",
    "\n",
    "In the sentences below, identify the *nouns*, *verbs*, *adjectives*, and *adverbs*:\n",
    "\n",
    "1. Today I woke up serenely and saw that it was a beautiful and calm day.\n",
    "1. The mutation of fungi is capable of controlling people's minds!\n",
    "1. Every day, the morning Sun comes and challenges us!\n",
    "1. It is no use trying to make an automatic system that does something we do not understand the result of!\n",
    "\n",
    "## Exercise 2\n",
    "\n",
    "There are many words that always have the same PoS definition - maybe the word Sun, for example, is always a noun. However, there are others that can change their meaning according to the context, such as \"house\": \"I live in a house\" (noun), versus \"I like house music\" (adjective), versus \"The museums house a collection of ancient artifacts\" (verb).\n",
    "\n",
    "Because of that, it is important to use context to determine the\n",
    "\n",
    "Recall that our language model context model was:\n",
    "\n",
    "$$\n",
    "𝑃(𝑤_𝑛∣𝑤_{𝑛−1}, w_{n-2}, \\cdots, w_{n-L})\n",
    "$$\n",
    "\n",
    "Now, we can make a small change and use:\n",
    "\n",
    "$$\n",
    "𝑃(\\text{tag}∣w_n, 𝑤_{𝑛−1}, w_{n-2}, \\cdots, w_{n-L})\n",
    "$$\n",
    "\n",
    "Similarly to the language models, we can use a fallback n-gram strategy to make a reasonable model. But, first, we will need to download a corpus:"
   ]
  },
  {
   "cell_type": "code",
   "execution_count": 1,
   "metadata": {},
   "outputs": [
    {
     "name": "stderr",
     "output_type": "stream",
     "text": [
      "[nltk_data] Downloading package brown to\n",
      "[nltk_data]     C:\\Users\\rodri\\AppData\\Roaming\\nltk_data...\n",
      "[nltk_data]   Unzipping corpora\\brown.zip.\n"
     ]
    }
   ],
   "source": [
    "import nltk\n",
    "nltk.download('brown')\n",
    "from nltk.corpus import brown"
   ]
  },
  {
   "cell_type": "markdown",
   "metadata": {},
   "source": [
    "A corpus is a collection of texts. The [Brown corpus](https://en.wikipedia.org/wiki/Brown_Corpus) has many phrases, with categories and word-level tags for part-of-speech. This was done manually by a team of brave taggers. Here are some highlights on how to use the [Brown corpus in NLTK](https://www.nltk.org/book/ch02.html):"
   ]
  },
  {
   "cell_type": "code",
   "execution_count": 2,
   "metadata": {},
   "outputs": [
    {
     "data": {
      "text/plain": [
       "['adventure',\n",
       " 'belles_lettres',\n",
       " 'editorial',\n",
       " 'fiction',\n",
       " 'government',\n",
       " 'hobbies',\n",
       " 'humor',\n",
       " 'learned',\n",
       " 'lore',\n",
       " 'mystery',\n",
       " 'news',\n",
       " 'religion',\n",
       " 'reviews',\n",
       " 'romance',\n",
       " 'science_fiction']"
      ]
     },
     "execution_count": 2,
     "metadata": {},
     "output_type": "execute_result"
    }
   ],
   "source": [
    "# This is a list of categories in the Brown corpus\n",
    "brown.categories()"
   ]
  },
  {
   "cell_type": "code",
   "execution_count": 3,
   "metadata": {},
   "outputs": [
    {
     "data": {
      "text/plain": [
       "[['Too', 'often', 'a', 'beginning', 'bodybuilder', 'has', 'to', 'do', 'his', 'training', 'secretly', 'either', 'because', 'his', 'parents', \"don't\", 'want', 'sonny-boy', 'to', '``', 'lift', 'all', 'those', 'old', 'barbell', 'things', \"''\", 'because', '``', \"you'll\", 'stunt', 'your', 'growth', \"''\", 'or', 'because', 'childish', 'taunts', 'from', 'his', 'schoolmates', ',', 'like', '``', 'Hey', 'lookit', 'Mr.', 'America', ';', ';'], ['whaddya', 'gonna', 'do', 'with', 'all', 'those', 'muscles', '(', 'of', 'which', 'he', 'has', 'none', 'at', 'the', 'time', ')', \"''\", '?', '?'], ...]"
      ]
     },
     "execution_count": 3,
     "metadata": {},
     "output_type": "execute_result"
    }
   ],
   "source": [
    "# This is a list of sentences in a category:\n",
    "brown.sents(categories='hobbies')\n",
    "# Each sentence is a list of words"
   ]
  },
  {
   "cell_type": "code",
   "execution_count": 13,
   "metadata": {},
   "outputs": [
    {
     "name": "stdout",
     "output_type": "stream",
     "text": [
      "['Too', 'often', 'a', 'beginning', 'bodybuilder', 'has', 'to', 'do', 'his', 'training', 'secretly', 'either', 'because', 'his', 'parents', \"don't\", 'want', 'sonny-boy', 'to', '``', 'lift', 'all', 'those', 'old', 'barbell', 'things', \"''\", 'because', '``', \"you'll\", 'stunt', 'your', 'growth', \"''\", 'or', 'because', 'childish', 'taunts', 'from', 'his', 'schoolmates', ',', 'like', '``', 'Hey', 'lookit', 'Mr.', 'America', ';', ';']\n",
      "['whaddya', 'gonna', 'do', 'with', 'all', 'those', 'muscles', '(', 'of', 'which', 'he', 'has', 'none', 'at', 'the', 'time', ')', \"''\", '?', '?']\n",
      "['After', 'all', ',', 'a', \"guy's\", 'gotta', 'have', 'a', 'little', 'ego', '!', '!']\n",
      "['Therefore', \"it's\", 'a', 'genuine', 'pleasure', 'to', 'tell', 'you', 'about', 'an', 'entirely', 'happy', 'bodybuilder', 'who', 'has', 'never', 'had', 'to', 'train', 'in', 'secret', 'has', 'never', 'heard', 'one', 'unkind', 'word', 'from', 'his', 'parents', 'and', 'never', 'has', 'been', 'taunted', 'by', 'his', 'schoolmates', '!', '!']\n",
      "['This', 'happy', ',', 'always', 'smiling', 'lad', 'with', 'the', 'sunny', 'disposition', 'is', 'our', 'new', 'Junior', 'Mr.', 'Canada', '--', 'Henri', 'De', 'Courcy', '.']\n",
      "['Far', 'from', 'discouraging', 'Henri', ',', 'his', 'parents', 'urge', 'him', 'on', 'to', 'greater', 'and', 'greater', 'accomplishments', '.']\n",
      "['Instead', 'of', 'admonishing', 'him', 'to', 'let', 'the', 'weights', 'alone', 'they', 'personally', 'took', 'him', 'to', 'that', 'master', 'Montreal', 'bodybuilding', 'authority', ',', 'Professor', 'Roland', 'Claude', '.']\n",
      "['And', 'they', \"couldn't\", 'have', 'entrusted', 'Henri', 'to', 'better', 'hands', 'because', '``', 'le', 'professeur', \"''\", 'knows', 'his', 'muscles', 'from', 'the', 'sterno-cleido', 'mastoideus', 'of', 'the', 'neck', 'right', 'down', 'to', 'the', 'tibialis', 'anticus', 'of', 'the', 'leg', 'and', 'better', 'still', ',', 'he', 'knows', 'just', 'what', 'exercises', 'work', 'best', 'for', 'them', 'and', 'what', 'Weider', 'principles', 'to', 'combine', 'them', 'with', 'for', 'fast', ',', 'fast', 'muscle', 'growth', '.']\n",
      "[\"That's\", 'because', 'the', 'good', 'professor', 'teaches', 'only', 'Weider', 'methods', 'at', 'his', 'famous', 'Montreal', 'Health', 'Studio', 'which', 'is', 'located', 'at', '1821', 'Mt.', 'Royal', 'East', 'in', 'Montreal', '.']\n",
      "['Undoubtedly', 'you', 'have', 'read', 'the', 'case', 'histories', 'of', 'some', 'of', 'his', 'prize-winning', 'pupils', '(', 'every', 'pupil', 'has', 'a', 'physique', 'title', 'of', 'some', 'kind', 'or', 'other', ')', '.']\n"
     ]
    }
   ],
   "source": [
    "# print 10 different sentences from the hobbies category\n",
    "for i in range(10):\n",
    "    print(brown.sents(categories='hobbies')[i])\n",
    "\n"
   ]
  },
  {
   "cell_type": "code",
   "execution_count": 4,
   "metadata": {},
   "outputs": [
    {
     "data": {
      "text/plain": [
       "[[('Too', 'QL'), ('often', 'RB'), ('a', 'AT'), ('beginning', 'VBG'), ('bodybuilder', 'NN'), ('has', 'HVZ'), ('to', 'TO'), ('do', 'DO'), ('his', 'PP$'), ('training', 'NN'), ('secretly', 'RB'), ('either', 'CC'), ('because', 'CS'), ('his', 'PP$'), ('parents', 'NNS'), (\"don't\", 'DO*'), ('want', 'VB'), ('sonny-boy', 'NN'), ('to', 'TO'), ('``', '``'), ('lift', 'VB'), ('all', 'ABN'), ('those', 'DTS'), ('old', 'JJ'), ('barbell', 'NN'), ('things', 'NNS'), (\"''\", \"''\"), ('because', 'CS'), ('``', '``'), (\"you'll\", 'PPSS+MD'), ('stunt', 'VB'), ('your', 'PP$'), ('growth', 'NN'), (\"''\", \"''\"), ('or', 'CC'), ('because', 'CS'), ('childish', 'JJ'), ('taunts', 'NNS'), ('from', 'IN'), ('his', 'PP$'), ('schoolmates', 'NNS'), (',', ','), ('like', 'CS'), ('``', '``'), ('Hey', 'UH'), ('lookit', 'VB+IN'), ('Mr.', 'NP'), ('America', 'NP'), (';', '.'), (';', '.')], [('whaddya', 'WDT+BER+PP'), ('gonna', 'VBG+TO'), ('do', 'DO'), ('with', 'IN'), ('all', 'ABN'), ('those', 'DTS'), ('muscles', 'NNS'), ('(', '('), ('of', 'IN'), ('which', 'WDT'), ('he', 'PPS'), ('has', 'HVZ'), ('none', 'PN'), ('at', 'IN'), ('the', 'AT'), ('time', 'NN'), (')', ')'), (\"''\", \"''\"), ('?', '.'), ('?', '.')], ...]"
      ]
     },
     "execution_count": 4,
     "metadata": {},
     "output_type": "execute_result"
    }
   ],
   "source": [
    "# This is a list of *tagged* sentences in a category:\n",
    "brown.tagged_sents(categories='hobbies')\n",
    "# You can find the meaning of the tags by looking at the Wikipedia article: https://en.wikipedia.org/wiki/Brown_Corpus"
   ]
  },
  {
   "cell_type": "markdown",
   "metadata": {},
   "source": [
    "**TASK**\n",
    "\n",
    "Make code to count the proportion of each tag throughout the corpus. If you finish this too quickly, subdivide your count by category."
   ]
  },
  {
   "cell_type": "code",
   "execution_count": null,
   "metadata": {},
   "outputs": [
    {
     "name": "stdout",
     "output_type": "stream",
     "text": [
      "{'NP': 0.029690180435276853, 'VBD': 0.02253460237411212, 'PPL': 0.0010618399024450737, 'PPS': 0.015719192002700673, 'MD': 0.010705378610944616, 'VB': 0.02901587334394312, '.': 0.05222047688926551, 'BEDZ': 0.008444770546128461, 'RB': 0.03140221427636429, 'JJ': 0.055139890732970945, 'IN': 0.10382176246477758, 'PPO': 0.00962889858007978, 'DOD*': 0.00034619597792613107, 'AT': 0.08436072587479074, 'NN': 0.13130472824476916, 'WPS': 0.0033792861128908915, 'CS': 0.01906919785875204, 'HVD': 0.0042154958008666955, 'VBN': 0.02513451694465687, ',': 0.0500830181399803, 'PPS+MD': 0.00012401049955562904, 'HV': 0.003382730848989659, 'BEN': 0.002127124540988915, 'VBG': 0.0154091657538116, 'CC': 0.03248213904332789, 'ABN': 0.0025921639143225237, 'DT': 0.007713625309165065, 'RP': 0.005174854804373437, '*': 0.00396403006565667, 'PP$': 0.014529896864601204, 'NNS': 0.04745985160076886, 'QL': 0.00752244245568347, 'PN': 0.002215826495532177, 'JJT': 0.0008654899448153277, 'BE': 0.005477130397040283, 'TO': 0.012847143280353293, 'EX': 0.0018636022294332031, 'MD*': 0.000745785365383158, 'QLP': 0.00022476903044457765, 'AP': 0.00820019428311597, 'JJR': 0.0016861983203466783, 'DO': 0.001165181985408098, 'WRB': 0.0038830787673356346, 'DTI': 0.0025155185361249474, 'BEG': 0.0005907722409386217, 'CD': 0.011634596173587142, 'NR': 0.001348614182667466, 'NN-TL': 0.011515752778179664, 'NP-TL': 0.003461098595236619, 'PPSS': 0.011886061908797168, 'BED': 0.002826405969038712, 'RBR': 0.0010179195171857885, 'ABX': 0.0006286643380250639, '``': 0.00761028322620204, \"''\": 0.007568946393016831, 'EX+BEZ': 9.042432259264617e-05, 'WDT': 0.004770098312768259, 'BEDZ*': 0.00013262233980254772, 'NN$': 0.0012745523565439651, 'DTS': 0.0020969831001246995, 'BER': 0.0037711248441256915, 'PPSS+BEM': 0.00023251968666680446, 'DT+BEZ': 0.00015415194041984442, 'HV*': 3.616972903705847e-05, 'PPSS+HV': 0.00020754534995074027, 'NP+BEZ': 2.152960061729671e-05, 'BEZ': 0.008668678392548347, 'PPSS+MD': 0.00041681306795086426, 'PPSS+HVD': 7.147827404942508e-05, 'PPSS+BER': 0.0002394091588643394, 'HVD*': 8.525721844449497e-05, 'PPS+HVZ': 3.703091306175034e-05, 'NN+BEZ': 2.9280256839523524e-05, 'DOD': 0.0009016596738523862, 'UH': 0.000523599887012656, ':': 0.0013417247104699308, 'DO*': 0.00041767425197555613, 'PPS+BEZ': 0.0003703091306175034, 'VBZ': 0.006349509814053146, 'BEZ*': 0.00010075853088894859, 'OD': 0.0016663910877787653, 'NP$': 0.002208937023334642, 'JJ-TL': 0.0035368827894095034, '--': 0.0029323316040758118, 'DOZ*': 7.664537819757628e-05, 'PN+HVZ': 2.583552074075605e-06, 'CD-HL': 0.00038236570696318956, 'PPLS': 0.0002971084885186946, 'RBT': 8.69795864938787e-05, 'WPS+BEZ': 1.8084864518529235e-05, 'HVG': 0.000241992710938415, 'NPS': 0.0010980096314821323, 'FW-NNS': 7.147827404942508e-05, 'NN+HVZ-TL': 8.611840246918683e-07, 'NNS-TL': 0.001916995638964099, 'NN+BEZ-TL': 1.7223680493837367e-06, 'VB+PPO': 6.114406575312266e-05, 'NN$-TL': 0.0003108874329137645, '.-HL': 0.0005149880467657373, 'NN-HL': 0.0012668017003217384, 'HVN': 0.0002041006138519728, 'PN$': 7.664537819757628e-05, 'WPS+MD': 6.889472197534947e-06, 'NNS$': 0.00022132429434581016, 'HVZ': 0.0020952607320753156, 'BEM': 0.00019462758958036224, 'PP$$': 0.00014123418004946642, 'BED*': 1.8946048543221104e-05, '(': 0.00194972063190239, ')': 0.0019574712881246167, 'ABL': 0.000307442696814997, 'WPO': 0.00024113152691372314, 'WDT+BEZ': 4.0475649160517815e-05, 'BER*': 4.0475649160517815e-05, 'NP$-TL': 0.00012142694748155343, 'DOZ': 0.0004021729395311025, 'PPS+HVD': 7.147827404942508e-05, 'IN-TL': 0.0012719688044698896, 'CC-TL': 0.00026438349558040357, 'PPSS+VB': 1.7223680493837367e-06, 'DTX': 8.956313856795431e-05, 'EX+HVZ': 1.7223680493837367e-06, 'JJS-TL': 1.7223680493837367e-05, 'NNS$-TL': 6.372761782719826e-05, 'WPS+HVD': 5.16710414815121e-06, 'NR-TL': 0.0002661058636297873, 'MD+HV': 6.028288172843078e-06, 'BEM*': 7.750656222226815e-06, 'WRB+BER': 8.611840246918683e-07, 'NPS$': 3.2724992938291e-05, 'NNS+MD': 1.7223680493837367e-06, 'RB+BEZ': 9.473024271610552e-06, 'PPSS+BEZ': 8.611840246918683e-07, 'WRB+BEZ': 9.473024271610552e-06, 'NN+MD': 1.7223680493837367e-06, 'RP+IN': 3.4447360987674734e-06, 'PPSS+BEZ*': 8.611840246918683e-07, 'RBR+CS': 8.611840246918683e-07, 'NP+MD': 1.7223680493837367e-06, 'HVZ*': 1.8946048543221104e-05, 'JJS': 0.00030916506486438077, 'FW-NN': 0.0002480209991112581, 'VBG-TL': 0.00011453747528401849, 'FW-UH': 6.889472197534947e-06, 'TO+VB': 1.7223680493837367e-06, 'IN+PPO': 8.611840246918683e-07, 'WP$': 0.00021701837422235084, 'PN-TL': 4.305920123459342e-06, \"'\": 0.0002729953358273223, 'IN+IN': 8.611840246918683e-07, 'DO+PPSS': 8.611840246918683e-07, 'RB-NC': 2.2390784641988577e-05, 'VB+AT': 1.7223680493837367e-06, 'VBN-TL': 0.0005089597585928942, 'WRB+DOD': 5.16710414815121e-06, 'WRB+DOZ': 8.611840246918683e-07, 'FW-JJ-TL': 6.372761782719826e-05, 'FW-NN-TL': 0.0001464012841976176, 'FW-PPSS': 5.16710414815121e-06, 'FW-VB': 2.2390784641988577e-05, 'FW-AT': 2.066841659260484e-05, 'FW-JJ': 4.5642753308669025e-05, 'MD-NC': 1.7223680493837367e-06, 'EX+HVD': 2.583552074075605e-06, 'CD-TL': 0.0007733432541732978, 'NN+HVZ': 4.305920123459342e-06, 'OD-TL': 0.00017309798896306553, 'NN-NC': 0.00010161971491364047, 'DTS+BEZ': 1.7223680493837367e-06, 'AT-TL': 0.0006424432824201337, 'PN+BEZ': 6.028288172843078e-06, 'VBN+TO': 4.305920123459342e-06, 'FW-NP-TL': 3.4447360987674734e-06, 'VB-TL': 8.267366637041936e-05, 'AP$': 7.750656222226815e-06, 'NR$': 5.683814562966331e-05, 'VBG+TO': 1.4640128419761762e-05, 'WDT+DO+PPS': 8.611840246918683e-07, 'RB+CS': 2.583552074075605e-06, 'NR$-TL': 9.473024271610552e-06, 'FW-RB': 2.7557888790139787e-05, 'VB+TO': 3.4447360987674734e-06, 'WRB+DOD*': 8.611840246918683e-07, 'VB+RP': 1.7223680493837367e-06, 'WDT+BER': 8.611840246918683e-07, 'NRS-TL': 8.611840246918683e-07, 'NPS-TL': 5.769932965435518e-05, 'WQL': 0.00015156838834576883, 'AT-HL': 0.0002859130961977003, 'IN-HL': 0.00043748148454346913, 'FW-NN-NC': 5.16710414815121e-06, 'NRS': 1.3778944395069893e-05, 'FW-BEZ': 3.4447360987674734e-06, 'FW-CC': 2.3251968666680445e-05, 'FW-VBN': 1.033420829630242e-05, 'FW-BER': 2.583552074075605e-06, 'FW-CD': 6.028288172843078e-06, 'FW-VBG': 6.028288172843078e-06, 'FW-IN-TL': 3.4447360987674734e-05, 'FW-NR-TL': 2.583552074075605e-06, 'FW-AT-TL': 3.789209708644221e-05, 'VBD-TL': 5.16710414815121e-06, 'FW-HV': 8.611840246918683e-07, 'VBZ-TL': 1.4640128419761762e-05, 'PP$-TL': 3.0141440864215392e-05, 'NN-TL-HL': 0.00011109273918525101, 'BEZ-HL': 2.583552074075605e-05, 'JJ-HL': 0.0003410288737779799, 'RB-HL': 4.219801720990155e-05, 'VB-HL': 0.00010764800308648354, 'RB-TL': 3.4447360987674734e-05, 'JJ-NC': 3.5308545012366605e-05, 'CC-HL': 0.00010248089893833234, 'JJ-TL-HL': 2.2390784641988577e-05, ',-HL': 0.00014726246822230948, 'DT-HL': 5.16710414815121e-06, 'VBD-HL': 6.889472197534947e-06, 'VB-NC': 3.5308545012366605e-05, 'FW-IN': 7.233945807411694e-05, 'FW-AT+NN-TL': 1.1195392320994288e-05, 'AP-TL': 1.550131244445363e-05, 'FW-NN$-TL': 3.4447360987674734e-06, 'PPS-TL': 5.16710414815121e-06, 'DOZ*-TL': 8.611840246918683e-07, 'PPO-TL': 1.1195392320994288e-05, 'FW-CC-TL': 1.2056576345686157e-05, 'FW-NNS-TL': 3.100262488890726e-05, 'WRB-TL': 7.750656222226815e-06, 'FW-NPS-TL': 8.611840246918683e-07, 'FW-PP$-TL': 1.7223680493837367e-06, 'FW-WDT': 1.3778944395069893e-05, 'FW-PPL': 7.750656222226815e-06, 'TO-TL': 8.611840246918683e-06, 'FW-VB-NC': 2.583552074075605e-06, 'FW-CS': 2.583552074075605e-06, 'FW-VBZ': 3.4447360987674734e-06, 'PPSS-TL': 7.750656222226815e-06, 'MD-TL': 6.889472197534947e-06, '*-TL': 8.611840246918683e-07, 'HV-TL': 2.583552074075605e-06, 'QL-TL': 5.16710414815121e-06, 'DT$': 4.305920123459342e-06, 'FW-PN': 8.611840246918683e-07, 'WPS-TL': 1.033420829630242e-05, 'FW-PPO+IN': 2.583552074075605e-06, 'FW-PPO': 3.4447360987674734e-06, 'FW-*': 5.16710414815121e-06, 'IN-NC': 3.5308545012366605e-05, 'DT-NC': 6.028288172843078e-06, 'JJT-TL': 3.4447360987674734e-06, 'JJR-TL': 1.2917760370378025e-05, 'NIL': 0.00013520589187662334, 'DT-TL': 7.750656222226815e-06, 'UH-TL': 1.2917760370378025e-05, 'DTI-TL': 1.7223680493837367e-06, '.-TL': 1.7223680493837367e-06, 'BEN-TL': 1.7223680493837367e-06, 'EX+MD': 3.4447360987674734e-06, 'VBN-NC': 7.750656222226815e-06, 'NP-HL': 0.0004452321407656959, 'VBZ-HL': 6.200524977781452e-05, 'FW-IN+NN': 4.305920123459342e-06, 'HVZ-TL': 3.4447360987674734e-06, 'FW-NPS': 1.7223680493837367e-06, 'FW-IN+AT-TL': 1.550131244445363e-05, 'FW-CD-TL': 1.7223680493837367e-06, 'FW-BE': 8.611840246918683e-07, 'FW-PP$': 2.583552074075605e-06, 'FW-PPS': 8.611840246918683e-07, 'FW-NR': 8.611840246918683e-07, 'FW-TO+VB': 8.611840246918683e-07, 'FW-IN+AT': 3.4447360987674734e-06, 'RB$': 7.750656222226815e-06, 'FW-NN$': 7.750656222226815e-06, 'JJ$-TL': 8.611840246918683e-07, 'NP-NC': 1.2917760370378025e-05, 'FW-*-TL': 1.7223680493837367e-06, 'FW-VB-TL': 8.611840246918683e-07, 'FW-RB+CC': 8.611840246918683e-07, 'FW-WPO': 8.611840246918683e-07, 'FW-VBD': 1.7223680493837367e-06, 'FW-NN-TL-NC': 8.611840246918683e-07, 'FW-WPS': 8.611840246918683e-07, 'FW-PPL+VBZ': 1.7223680493837367e-06, 'BEZ-TL': 6.889472197534947e-06, 'AP-HL': 3.4447360987674734e-05, 'VBN-TL-HL': 5.16710414815121e-06, 'NNS-TL-HL': 1.2056576345686157e-05, 'PN-HL': 1.7223680493837367e-06, 'VBN-HL': 0.00011798221138278596, 'TO-HL': 4.736512135805276e-05, 'PPO-HL': 4.305920123459342e-06, 'NNS-HL': 0.0005244610710373478, 'MD-HL': 2.3251968666680445e-05, ':-HL': 0.00011884339540747784, 'NPS$-HL': 8.611840246918683e-07, 'UH-HL': 8.611840246918683e-07, 'JJR-HL': 1.4640128419761762e-05, 'CS-HL': 2.152960061729671e-05, 'VBG-HL': 0.00012573286760501277, 'WRB-HL': 3.100262488890726e-05, 'WDT+BEZ-HL': 8.611840246918683e-07, 'NP$-HL': 6.889472197534947e-06, 'JJT-HL': 5.16710414815121e-06, 'WDT-HL': 2.583552074075605e-05, 'DOZ-HL': 1.3778944395069893e-05, '---HL': 2.2390784641988577e-05, 'PP$-HL': 8.611840246918683e-06, 'DO-HL': 3.4447360987674734e-06, '*-HL': 6.889472197534947e-06, ':-TL': 1.8946048543221104e-05, 'RN': 7.750656222226815e-06, 'BE-HL': 1.1195392320994288e-05, 'RP-HL': 1.2056576345686157e-05, 'WPO-TL': 3.4447360987674734e-06, 'NPS-HL': 6.889472197534947e-06, 'NN$-HL': 1.7223680493837367e-05, 'BER-HL': 9.473024271610552e-06, 'PPSS-HL': 2.152960061729671e-05, 'ABN-TL': 6.028288172843078e-06, 'FW-NP': 6.028288172843078e-06, 'PPL-HL': 8.611840246918683e-07, 'DO-TL': 4.305920123459342e-06, 'QL-HL': 3.4447360987674734e-06, 'FW-DT+BEZ': 1.7223680493837367e-06, 'WPS+HVZ': 1.7223680493837367e-06, 'CD-TL-HL': 1.4640128419761762e-05, 'PN+MD': 2.583552074075605e-06, 'DT+MD': 2.583552074075605e-06, 'HV+TO': 2.583552074075605e-06, 'MD+TO': 1.7223680493837367e-06, 'VB+IN': 2.583552074075605e-06, 'MD+PPSS': 8.611840246918683e-07, 'NR-HL': 8.611840246918683e-06, 'WDT+HVZ': 1.7223680493837367e-06, 'NR+MD': 8.611840246918683e-07, 'NN+IN': 8.611840246918683e-07, 'NN+HVD-TL': 8.611840246918683e-07, 'WDT+DOD': 8.611840246918683e-07, 'DOZ-TL': 1.7223680493837367e-06, '(-HL': 0.00013951181200008266, 'AT-TL-HL': 4.305920123459342e-06, ')-HL': 0.00015845786054330377, 'DTS-HL': 1.7223680493837367e-06, 'NP-TL-HL': 6.028288172843078e-06, 'CD$': 4.305920123459342e-06, 'IN-TL-HL': 5.16710414815121e-06, 'VBN-TL-NC': 2.583552074075605e-06, 'NNS-TL-NC': 2.583552074075605e-06, 'NN-TL-NC': 2.583552074075605e-06, 'OD-HL': 6.889472197534947e-06, 'PPS-HL': 1.63624964691455e-05, 'FW-DTS': 8.611840246918683e-07, 'NNS$-TL-HL': 8.611840246918683e-07, 'WDT+BER+PP': 8.611840246918683e-07, 'FW-RB-TL': 2.583552074075605e-06, 'NNS$-HL': 3.4447360987674734e-06, 'NR-TL-HL': 4.305920123459342e-06, 'FW-UH-NC': 8.611840246918683e-07, 'DO*-HL': 2.583552074075605e-06, 'DTI-HL': 5.16710414815121e-06, 'RB+BEZ-HL': 8.611840246918683e-07, 'WQL-TL': 4.305920123459342e-06, 'JJS-HL': 8.611840246918683e-07, 'FW-IN+NN-TL': 1.7223680493837367e-06, 'FW-UH-TL': 8.611840246918683e-07, 'FW-VBG-TL': 8.611840246918683e-07, 'EX-HL': 8.611840246918683e-07, 'ABN-HL': 3.4447360987674734e-06, 'HV-HL': 2.583552074075605e-06, 'FW-NNS-NC': 1.7223680493837367e-06, 'FW-JJ-NC': 1.7223680493837367e-06, 'PPO-NC': 7.750656222226815e-06, 'PPSS+BER-N': 8.611840246918683e-07, 'WRB-NC': 6.028288172843078e-06, 'BER-NC': 4.305920123459342e-06, 'PPSS-NC': 2.669670476544792e-05, 'TO-NC': 1.1195392320994288e-05, 'NR-NC': 3.4447360987674734e-06, 'UH-NC': 4.305920123459342e-06, 'AT-NC': 3.0141440864215392e-05, 'HV-NC': 9.473024271610552e-06, ',-NC': 4.305920123459342e-06, 'WDT+BEZ-NC': 1.7223680493837367e-06, '.-NC': 1.3778944395069893e-05, 'NP+HVZ-NC': 8.611840246918683e-07, 'HVZ-NC': 1.7223680493837367e-06, 'CD-NC': 4.305920123459342e-06, 'NNS-NC': 2.2390784641988577e-05, 'QL-NC': 1.7223680493837367e-06, 'JJR-NC': 4.305920123459342e-06, 'WPS+BEZ-NC': 1.7223680493837367e-06, 'PP$-NC': 1.1195392320994288e-05, 'DT+BEZ-NC': 8.611840246918683e-07, 'RB+BEZ-NC': 8.611840246918683e-07, 'WDT-NC': 6.028288172843078e-06, 'BEDZ-NC': 6.889472197534947e-06, 'VBD-NC': 9.473024271610552e-06, 'RP-NC': 4.305920123459342e-06, 'VBZ-NC': 6.028288172843078e-06, 'VBG-NC': 1.3778944395069893e-05, 'PPS-NC': 7.750656222226815e-06, 'PN-NC': 1.7223680493837367e-06, 'PPSS+MD-NC': 1.7223680493837367e-06, '*-NC': 8.611840246918683e-07, 'EX-NC': 8.611840246918683e-07, 'BER*-NC': 8.611840246918683e-07, 'AP-NC': 1.7223680493837367e-06, 'DO-NC': 1.7223680493837367e-06, 'BED-NC': 2.583552074075605e-06, 'CC-NC': 4.305920123459342e-06, 'PPS+BEZ-NC': 2.583552074075605e-06, 'PPSS+BER-NC': 8.611840246918683e-07, 'CS-NC': 4.305920123459342e-06, 'NNS$-NC': 1.7223680493837367e-06, 'PPL-NC': 1.7223680493837367e-06, 'RBR-NC': 8.611840246918683e-07, 'BEZ-NC': 4.305920123459342e-06, 'OD-NC': 8.611840246918683e-07, 'NP+BEZ-NC': 2.583552074075605e-06, 'ABN-NC': 8.611840246918683e-07, 'WPS-NC': 2.583552074075605e-06, 'JJT-NC': 8.611840246918683e-07, 'DOD-NC': 8.611840246918683e-07, 'WPO-NC': 8.611840246918683e-07, 'BEM-NC': 1.7223680493837367e-06, 'NPS-NC': 1.7223680493837367e-06, 'NN+NN-NC': 8.611840246918683e-07, 'JJ+JJ-NC': 1.7223680493837367e-06, 'AP+AP-NC': 8.611840246918683e-07, 'VB+JJ-NC': 8.611840246918683e-07, 'VB+VB-NC': 8.611840246918683e-07, 'FW-IN+AT-T': 2.583552074075605e-06, 'FW-DT': 1.7223680493837367e-06, 'WPS-HL': 1.7223680493837367e-06, 'FW-QL': 8.611840246918683e-07, 'JJ-TL-NC': 8.611840246918683e-07, 'FW-JJT': 8.611840246918683e-07, 'WPS+BEZ-TL': 8.611840246918683e-07, 'HVG-HL': 8.611840246918683e-07, 'PPL-TL': 8.611840246918683e-07, 'FW-IN+NP-TL': 1.7223680493837367e-06, 'JJR+CS': 8.611840246918683e-07, 'CS-TL': 1.7223680493837367e-06, 'WRB+DO': 8.611840246918683e-07, 'WRB+IN': 8.611840246918683e-07, 'NP+HVZ': 5.16710414815121e-06, 'WRB+MD': 8.611840246918683e-07, 'MD*-HL': 8.611840246918683e-07, 'BEDZ-HL': 8.611840246918683e-07, 'PPS+BEZ-HL': 8.611840246918683e-07, 'HVD-HL': 8.611840246918683e-07, 'FW-AT-HL': 8.611840246918683e-07, 'BER-TL': 5.16710414815121e-06, 'FW-PP$-NC': 8.611840246918683e-07, 'NPS$-TL': 2.583552074075605e-06, 'FW-JJR': 8.611840246918683e-07, ',-TL': 3.4447360987674734e-06, 'FW-VBD-TL': 8.611840246918683e-07, 'WRB+BEZ-TL': 2.583552074075605e-06, 'FW-AT+NP-TL': 1.7223680493837367e-06, 'FW-OD-TL': 3.4447360987674734e-06, 'PPSS+BER-TL': 8.611840246918683e-07, 'RP-TL': 3.4447360987674734e-06, 'BE-TL': 8.611840246918683e-07, 'PPSS+HV-TL': 8.611840246918683e-07, 'DOD*-TL': 8.611840246918683e-07, 'WDT+BEZ-TL': 8.611840246918683e-07, 'CC-TL-HL': 1.7223680493837367e-06, 'FW-OD-NC': 8.611840246918683e-07, 'FW-PPSS+HV': 8.611840246918683e-07, 'PN+HVD': 8.611840246918683e-07}\n"
     ]
    }
   ],
   "source": [
    "# count the proportion of each tag throughout the corpus. subdivide your count by category.\n",
    "\n",
    "count = {}\n",
    "for category in brown.categories():\n",
    "    for sent in brown.tagged_sents(categories=category):\n",
    "        for word, tag in sent:\n",
    "            count[tag] = count.get(tag, 0) + 1 # increment the count for the tag\n",
    "\n",
    "# normalize the counts\n",
    "total = sum(count.values())\n",
    "for tag in count:\n",
    "    count[tag] /= total\n",
    "\n",
    "print(count)\n",
    "\n"
   ]
  },
  {
   "cell_type": "code",
   "execution_count": 23,
   "metadata": {},
   "outputs": [
    {
     "data": {
      "text/html": [
       "<div>\n",
       "<style scoped>\n",
       "    .dataframe tbody tr th:only-of-type {\n",
       "        vertical-align: middle;\n",
       "    }\n",
       "\n",
       "    .dataframe tbody tr th {\n",
       "        vertical-align: top;\n",
       "    }\n",
       "\n",
       "    .dataframe thead th {\n",
       "        text-align: right;\n",
       "    }\n",
       "</style>\n",
       "<table border=\"1\" class=\"dataframe\">\n",
       "  <thead>\n",
       "    <tr style=\"text-align: right;\">\n",
       "      <th></th>\n",
       "      <th>proportion</th>\n",
       "    </tr>\n",
       "  </thead>\n",
       "  <tbody>\n",
       "    <tr>\n",
       "      <th>NN</th>\n",
       "      <td>1.313047e-01</td>\n",
       "    </tr>\n",
       "    <tr>\n",
       "      <th>IN</th>\n",
       "      <td>1.038218e-01</td>\n",
       "    </tr>\n",
       "    <tr>\n",
       "      <th>AT</th>\n",
       "      <td>8.436073e-02</td>\n",
       "    </tr>\n",
       "    <tr>\n",
       "      <th>JJ</th>\n",
       "      <td>5.513989e-02</td>\n",
       "    </tr>\n",
       "    <tr>\n",
       "      <th>.</th>\n",
       "      <td>5.222048e-02</td>\n",
       "    </tr>\n",
       "    <tr>\n",
       "      <th>...</th>\n",
       "      <td>...</td>\n",
       "    </tr>\n",
       "    <tr>\n",
       "      <th>PPSS+HV-TL</th>\n",
       "      <td>8.611840e-07</td>\n",
       "    </tr>\n",
       "    <tr>\n",
       "      <th>WDT+BEZ-TL</th>\n",
       "      <td>8.611840e-07</td>\n",
       "    </tr>\n",
       "    <tr>\n",
       "      <th>FW-OD-NC</th>\n",
       "      <td>8.611840e-07</td>\n",
       "    </tr>\n",
       "    <tr>\n",
       "      <th>FW-PPSS+HV</th>\n",
       "      <td>8.611840e-07</td>\n",
       "    </tr>\n",
       "    <tr>\n",
       "      <th>PN+HVD</th>\n",
       "      <td>8.611840e-07</td>\n",
       "    </tr>\n",
       "  </tbody>\n",
       "</table>\n",
       "<p>472 rows × 1 columns</p>\n",
       "</div>"
      ],
      "text/plain": [
       "              proportion\n",
       "NN          1.313047e-01\n",
       "IN          1.038218e-01\n",
       "AT          8.436073e-02\n",
       "JJ          5.513989e-02\n",
       ".           5.222048e-02\n",
       "...                  ...\n",
       "PPSS+HV-TL  8.611840e-07\n",
       "WDT+BEZ-TL  8.611840e-07\n",
       "FW-OD-NC    8.611840e-07\n",
       "FW-PPSS+HV  8.611840e-07\n",
       "PN+HVD      8.611840e-07\n",
       "\n",
       "[472 rows x 1 columns]"
      ]
     },
     "execution_count": 23,
     "metadata": {},
     "output_type": "execute_result"
    }
   ],
   "source": [
    "import pandas as pd\n",
    "\n",
    "# create a DataFrame from the count dictionary\n",
    "df = pd.DataFrame.from_dict(count, orient='index', columns=['proportion'])\n",
    "df = df.sort_values(by='proportion', ascending=False)\n",
    "df"
   ]
  },
  {
   "cell_type": "code",
   "execution_count": null,
   "metadata": {},
   "outputs": [
    {
     "name": "stdout",
     "output_type": "stream",
     "text": [
      "adventure [('NN', 0.11610567909780509), ('IN', 0.08520088835049465), ('AT', 0.07976406795304433)]\n",
      "belles_lettres [('NN', 0.1259416739843786), ('IN', 0.11024518186439895), ('AT', 0.08606784674400333)]\n",
      "editorial [('NN', 0.12458606583988052), ('IN', 0.1007077462502435), ('AT', 0.08621193428998117)]\n",
      "fiction [('NN', 0.11410758089008294), ('IN', 0.0877818011914496), ('AT', 0.07941537203597711)]\n",
      "government [('NN', 0.1408645549581414), ('IN', 0.12259509106208195), ('AT', 0.08152088651824807)]\n",
      "hobbies [('NN', 0.15137531119072195), ('IN', 0.10432934604408282), ('AT', 0.0843524196976137)]\n",
      "humor [('NN', 0.11832219405392948), ('IN', 0.08877621571790735), ('AT', 0.07628485826227241)]\n",
      "learned [('NN', 0.16050536593947923), ('IN', 0.11961756685432794), ('AT', 0.09251847290640394)]\n",
      "lore [('NN', 0.13333756425715554), ('IN', 0.10946608763452072), ('AT', 0.09008241235187989)]\n",
      "mystery [('NN', 0.1130157952736623), ('IN', 0.08207245185327712), ('.', 0.0756004128111389)]\n",
      "news [('NN', 0.13089484257215028), ('IN', 0.10557511386916482), ('AT', 0.08844004216639816)]\n",
      "religion [('NN', 0.12495240995964364), ('IN', 0.10827685981877713), ('AT', 0.08444376760831493)]\n",
      "reviews [('NN', 0.12445951257861636), ('IN', 0.09925314465408805), ('AT', 0.08468455188679246)]\n",
      "romance [('NN', 0.10233926480249064), ('IN', 0.08020336465682214), ('.', 0.07149181685755905)]\n",
      "science_fiction [('NN', 0.10649619903248099), ('IN', 0.08127159640635798), ('.', 0.07442985487214927)]\n"
     ]
    }
   ],
   "source": [
    "# print the 3 most common tags in each category\n",
    "for category in brown.categories():\n",
    "    count = {}\n",
    "    for sent in brown.tagged_sents(categories=category):\n",
    "        for word, tag in sent:\n",
    "            count[tag] = count.get(tag, 0) + 1\n",
    "    total = sum(count.values())\n",
    "    for tag in count:\n",
    "        count[tag] /= total\n",
    "    print(category, sorted(count.items(), key=lambda x: -x[1])[:3]) # sort by the second element of the tuple (the count) in reverse order"
   ]
  },
  {
   "cell_type": "markdown",
   "metadata": {},
   "source": [
    "## Exercise 3\n",
    "\n",
    "Suppose we have no idea how to choose a PoS tag for any word. Our best guess is to pick one. For example, in the code below, we tag all words as qualifiers (QL). As we can see from the evaluation process, this is not a very accurate method:"
   ]
  },
  {
   "cell_type": "code",
   "execution_count": 26,
   "metadata": {},
   "outputs": [
    {
     "name": "stdout",
     "output_type": "stream",
     "text": [
      "[('Assembly', 'NN'), ('session', 'NN'), ('brought', 'NN'), ('much', 'NN'), ('good', 'NN')]\n",
      "[('Assembly', 'NN-HL'), ('session', 'NN-HL'), ('brought', 'VBD-HL'), ('much', 'AP-HL'), ('good', 'NN-HL')]\n",
      "Accuracy: 0.0\n"
     ]
    }
   ],
   "source": [
    "from nltk.tag import DefaultTagger\n",
    "default_tagger = DefaultTagger('NN')\n",
    "sentence = brown.sents(categories='editorial')[0]\n",
    "sentence_tagged = default_tagger.tag(sentence)\n",
    "sentence_ground_truth = brown.tagged_sents(categories='editorial')[0]\n",
    "print(sentence_tagged)\n",
    "print(sentence_ground_truth)\n",
    "accuracy = default_tagger.accuracy([sentence_ground_truth])\n",
    "print(f'Accuracy: {accuracy}')"
   ]
  },
  {
   "cell_type": "markdown",
   "metadata": {},
   "source": [
    "1. Change the evaluation process above to calculate accuracy over all the 'editorial' category of the Brown corpus\n",
    "1. Change the default tag to the most common tag you have found in Exercise 2. What is your change in accuracy?"
   ]
  },
  {
   "cell_type": "markdown",
   "metadata": {},
   "source": [
    "## Exercise 4\n",
    "\n",
    "NLTK also comes with Unigram taggers. These taggers use $L=0$ in the context, that is, they always tag a word in the same way.\n",
    "\n",
    "The Unigram taggers requires training data. In the example below, we use the tagged sentences from the \"hobbies\" category for that.\n",
    "\n",
    "Of course, there is a change that the word we want does not appear in the training data. In this case, what is the best alternative? Well, we can choose the most common tag in the dataset - which is what we had been doing with the default tagger. This strategy is called \"backoff\"."
   ]
  },
  {
   "cell_type": "code",
   "execution_count": 25,
   "metadata": {},
   "outputs": [
    {
     "name": "stdout",
     "output_type": "stream",
     "text": [
      "[('The', 'AT'), ('September-October', 'NN'), ('term', 'NN'), ('jury', 'NN'), ('had', 'HVD'), ('been', 'BEN'), ('charged', 'VBN'), ('by', 'IN'), ('Fulton', 'NN'), ('Superior', 'NN'), ('Court', 'NN-TL'), ('Judge', 'NN-TL'), ('Durwood', 'NN'), ('Pye', 'NN'), ('to', 'TO'), ('investigate', 'NN'), ('reports', 'VBZ'), ('of', 'IN'), ('possible', 'JJ'), ('``', '``'), ('irregularities', 'NNS'), (\"''\", \"''\"), ('in', 'IN'), ('the', 'AT'), ('hard-fought', 'NN'), ('primary', 'JJ'), ('which', 'WDT'), ('was', 'BEDZ'), ('won', 'VBD'), ('by', 'IN'), ('Mayor-nominate', 'NN'), ('Ivan', 'NN'), ('Allen', 'NP-TL'), ('Jr.', 'NP'), ('.', '.')]\n",
      "[('The', 'AT'), ('September-October', 'NP'), ('term', 'NN'), ('jury', 'NN'), ('had', 'HVD'), ('been', 'BEN'), ('charged', 'VBN'), ('by', 'IN'), ('Fulton', 'NP-TL'), ('Superior', 'JJ-TL'), ('Court', 'NN-TL'), ('Judge', 'NN-TL'), ('Durwood', 'NP'), ('Pye', 'NP'), ('to', 'TO'), ('investigate', 'VB'), ('reports', 'NNS'), ('of', 'IN'), ('possible', 'JJ'), ('``', '``'), ('irregularities', 'NNS'), (\"''\", \"''\"), ('in', 'IN'), ('the', 'AT'), ('hard-fought', 'JJ'), ('primary', 'NN'), ('which', 'WDT'), ('was', 'BEDZ'), ('won', 'VBN'), ('by', 'IN'), ('Mayor-nominate', 'NN-TL'), ('Ivan', 'NP'), ('Allen', 'NP'), ('Jr.', 'NP'), ('.', '.')]\n",
      "Accuracy: 0.6285714285714286\n"
     ]
    }
   ],
   "source": [
    "from nltk.tag import UnigramTagger\n",
    "\n",
    "train_category = 'hobbies'\n",
    "\n",
    "unigram_tagger = UnigramTagger(brown.tagged_sents(categories=train_category), backoff=default_tagger)\n",
    "\n",
    "# test the tagger\n",
    "\n",
    "test_category = 'news'\n",
    "\n",
    "index = 2\n",
    "\n",
    "sentence = brown.sents(categories=test_category)[index]\n",
    "sentence_tagged = unigram_tagger.tag(sentence)\n",
    "\n",
    "sentence_ground_truth = brown.tagged_sents(categories=test_category)[index]\n",
    "print(sentence_tagged)\n",
    "print(sentence_ground_truth)\n",
    "accuracy = unigram_tagger.accuracy([sentence_ground_truth])\n",
    "print(f'Accuracy: {accuracy}')\n",
    "\n"
   ]
  },
  {
   "cell_type": "code",
   "execution_count": 32,
   "metadata": {},
   "outputs": [
    {
     "name": "stdout",
     "output_type": "stream",
     "text": [
      "Accuracy for adventure: 0.8020103256323728\n",
      "Accuracy for belles_lettres: 0.8176329897860147\n",
      "Accuracy for editorial: 0.8073339393545874\n",
      "Accuracy for fiction: 0.8111201962387572\n",
      "Accuracy for government: 0.8188741674629548\n",
      "Accuracy for hobbies: 0.9327463719715829\n",
      "Accuracy for humor: 0.8115694860566951\n",
      "Accuracy for learned: 0.832567294159043\n",
      "Accuracy for lore: 0.8217662898122376\n",
      "Accuracy for mystery: 0.809214784236212\n",
      "Accuracy for news: 0.7805756111144261\n",
      "Accuracy for religion: 0.8153252620624889\n",
      "Accuracy for reviews: 0.7911998820754716\n",
      "Accuracy for romance: 0.809902602039359\n",
      "Accuracy for science_fiction: 0.8144436765722184\n"
     ]
    }
   ],
   "source": [
    "# test for all categories\n",
    "accuracies = []\n",
    "for category in brown.categories():\n",
    "    accuracy = unigram_tagger.accuracy(brown.tagged_sents(categories=category))\n",
    "    accuracies.append(accuracy)\n",
    "    print(f'Accuracy for {category}: {accuracy}')\n"
   ]
  },
  {
   "cell_type": "markdown",
   "metadata": {},
   "source": [
    "Train the Unigram tagger in the 'hobbies' category. Then, test it in sentences of each category.\n",
    "\n",
    "1. What do you observe in the results?\n",
    "1. Does this phenomenon happen for any category chosen for training?\n",
    "1. Make an experiment to find out if this phenomenon is due to train and test being from the same category, of if it is due to they containing strictly the same sentences."
   ]
  },
  {
   "cell_type": "markdown",
   "metadata": {},
   "source": [
    "## Exercise 5\n",
    "\n",
    "We can also use n-gram taggers:"
   ]
  },
  {
   "cell_type": "code",
   "execution_count": 30,
   "metadata": {},
   "outputs": [
    {
     "name": "stdout",
     "output_type": "stream",
     "text": [
      "[('The', 'AT'), ('Fulton', 'NP-TL'), ('County', 'NN-TL'), ('Grand', 'JJ-TL'), ('Jury', 'NN-TL'), ('said', 'VBD'), ('Friday', 'NR'), ('an', 'AT'), ('investigation', 'NN'), ('of', 'IN'), (\"Atlanta's\", 'NP$'), ('recent', 'JJ'), ('primary', 'NN'), ('election', 'NN'), ('produced', 'VBD'), ('``', '``'), ('no', 'AT'), ('evidence', 'NN'), (\"''\", \"''\"), ('that', 'CS'), ('any', 'DTI'), ('irregularities', 'NNS'), ('took', 'VBD'), ('place', 'NN'), ('.', '.')]\n",
      "[('The', 'AT'), ('Fulton', 'NP-TL'), ('County', 'NN-TL'), ('Grand', 'JJ-TL'), ('Jury', 'NN-TL'), ('said', 'VBD'), ('Friday', 'NR'), ('an', 'AT'), ('investigation', 'NN'), ('of', 'IN'), (\"Atlanta's\", 'NP$'), ('recent', 'JJ'), ('primary', 'NN'), ('election', 'NN'), ('produced', 'VBD'), ('``', '``'), ('no', 'AT'), ('evidence', 'NN'), (\"''\", \"''\"), ('that', 'CS'), ('any', 'DTI'), ('irregularities', 'NNS'), ('took', 'VBD'), ('place', 'NN'), ('.', '.')]\n",
      "Accuracy: 1.0\n"
     ]
    }
   ],
   "source": [
    "from nltk import NgramTagger\n",
    "\n",
    "train_category = 'news'\n",
    "\n",
    "bigram_tagger = NgramTagger(n=2, train=brown.tagged_sents(categories=train_category), backoff=unigram_tagger)\n",
    "\n",
    "test_category = 'news'\n",
    "\n",
    "sentence = brown.sents(categories=test_category)[0]\n",
    "sentence_tagged = bigram_tagger.tag(sentence)\n",
    "sentence_ground_truth = brown.tagged_sents(categories=test_category)[0]\n",
    "print(sentence_tagged)\n",
    "print(sentence_ground_truth)\n",
    "accuracy = bigram_tagger.accuracy([sentence_ground_truth])\n",
    "print(f'Accuracy: {accuracy}')\n"
   ]
  },
  {
   "cell_type": "code",
   "execution_count": 33,
   "metadata": {},
   "outputs": [
    {
     "name": "stdout",
     "output_type": "stream",
     "text": [
      "Accuracy for adventure: 0.8308817167084883\n",
      "Accuracy for belles_lettres: 0.8377836576235153\n",
      "Accuracy for editorial: 0.8393286150249983\n",
      "Accuracy for fiction: 0.8366283144492466\n",
      "Accuracy for government: 0.8457435429353795\n",
      "Accuracy for hobbies: 0.9369117736353149\n",
      "Accuracy for humor: 0.8355381424291312\n",
      "Accuracy for learned: 0.8459601513019\n",
      "Accuracy for lore: 0.8431445434682091\n",
      "Accuracy for mystery: 0.8420997393692385\n",
      "Accuracy for news: 0.9678779561230781\n",
      "Accuracy for religion: 0.8352750069798726\n",
      "Accuracy for reviews: 0.8118366745283019\n",
      "Accuracy for romance: 0.8417497357973208\n",
      "Accuracy for science_fiction: 0.8398064961990325\n"
     ]
    }
   ],
   "source": [
    "# test for all categories\n",
    "accuracies = []\n",
    "for category in brown.categories():\n",
    "    accuracy = bigram_tagger.accuracy(brown.tagged_sents(categories=category))\n",
    "    accuracies.append(accuracy)\n",
    "    print(f'Accuracy for {category}: {accuracy}')"
   ]
  },
  {
   "cell_type": "code",
   "execution_count": 43,
   "metadata": {},
   "outputs": [
    {
     "name": "stdout",
     "output_type": "stream",
     "text": [
      "Accuracy for news with n=1: 0.9349006503968017\n",
      "Accuracy for news with n=2: 0.9678779561230781\n",
      "Accuracy for news with n=3: 0.9763808500904987\n",
      "Accuracy for news with n=4: 0.9843765538914414\n",
      "Accuracy for news with n=5: 0.9898860313861209\n",
      "\n",
      "Accuracy for editorial with n=1: 0.8506590481137588\n",
      "Accuracy for editorial with n=2: 0.8393286150249983\n",
      "Accuracy for editorial with n=3: 0.8210830465554185\n",
      "Accuracy for editorial with n=4: 0.8125608726706058\n",
      "Accuracy for editorial with n=5: 0.8101421985585352\n",
      "\n",
      "Accuracy for reviews with n=1: 0.8224744496855346\n",
      "Accuracy for reviews with n=2: 0.8118366745283019\n",
      "Accuracy for reviews with n=3: 0.8017393867924528\n",
      "Accuracy for reviews with n=4: 0.7955974842767296\n",
      "Accuracy for reviews with n=5: 0.7929933176100629\n",
      "\n",
      "Accuracy for religion with n=1: 0.8404274220157872\n",
      "Accuracy for religion with n=2: 0.8352750069798726\n",
      "Accuracy for religion with n=3: 0.8247417447143328\n",
      "Accuracy for religion with n=4: 0.8189547958070001\n",
      "Accuracy for religion with n=5: 0.8166704738698952\n",
      "\n",
      "Accuracy for hobbies with n=1: 0.9083975954824215\n",
      "Accuracy for hobbies with n=2: 0.9369117736353149\n",
      "Accuracy for hobbies with n=3: 0.935758090958771\n",
      "Accuracy for hobbies with n=4: 0.9330621167041108\n",
      "Accuracy for hobbies with n=5: 0.9320663063938308\n",
      "\n",
      "Accuracy for lore with n=1: 0.8506060798375326\n",
      "Accuracy for lore with n=2: 0.8431445434682091\n",
      "Accuracy for lore with n=3: 0.8296086093255606\n",
      "Accuracy for lore with n=4: 0.8241325850642345\n",
      "Accuracy for lore with n=5: 0.8231987597349024\n",
      "\n",
      "Accuracy for belles_lettres with n=1: 0.8452708323704765\n",
      "Accuracy for belles_lettres with n=2: 0.8377836576235153\n",
      "Accuracy for belles_lettres with n=3: 0.8255476729676018\n",
      "Accuracy for belles_lettres with n=4: 0.8204753431621759\n",
      "Accuracy for belles_lettres with n=5: 0.8189675093589684\n",
      "\n",
      "Accuracy for government with n=1: 0.8505640572186488\n",
      "Accuracy for government with n=2: 0.8457435429353795\n",
      "Accuracy for government with n=3: 0.8323231170757448\n",
      "Accuracy for government with n=4: 0.8255202019481723\n",
      "Accuracy for government with n=5: 0.822125875322675\n",
      "\n",
      "Accuracy for learned with n=1: 0.8487805682617875\n",
      "Accuracy for learned with n=2: 0.8459601513019\n",
      "Accuracy for learned with n=3: 0.8376473434201267\n",
      "Accuracy for learned with n=4: 0.8344365763546798\n",
      "Accuracy for learned with n=5: 0.8331775598170302\n",
      "\n",
      "Accuracy for fiction with n=1: 0.8456371919168322\n",
      "Accuracy for fiction with n=2: 0.8366283144492466\n",
      "Accuracy for fiction with n=3: 0.821238757154538\n",
      "Accuracy for fiction with n=4: 0.815062492699451\n",
      "Accuracy for fiction with n=5: 0.8143908421913328\n",
      "\n",
      "Accuracy for mystery with n=1: 0.8464552467246235\n",
      "Accuracy for mystery with n=2: 0.8420997393692385\n",
      "Accuracy for mystery with n=3: 0.8217565463800311\n",
      "Accuracy for mystery with n=4: 0.8149871433819028\n",
      "Accuracy for mystery with n=5: 0.8134653396071297\n",
      "\n",
      "Accuracy for science_fiction with n=1: 0.8438147892190739\n",
      "Accuracy for science_fiction with n=2: 0.8398064961990325\n",
      "Accuracy for science_fiction with n=3: 0.8254319281271596\n",
      "Accuracy for science_fiction with n=4: 0.8190048375950242\n",
      "Accuracy for science_fiction with n=5: 0.8176917760884589\n",
      "\n",
      "Accuracy for adventure with n=1: 0.8355686308442214\n",
      "Accuracy for adventure with n=2: 0.8308817167084883\n",
      "Accuracy for adventure with n=3: 0.8133742897522425\n",
      "Accuracy for adventure with n=4: 0.8080528395489025\n",
      "Accuracy for adventure with n=5: 0.80682703123648\n",
      "\n",
      "Accuracy for romance with n=1: 0.8472194453171861\n",
      "Accuracy for romance with n=2: 0.8417497357973208\n",
      "Accuracy for romance with n=3: 0.8232412670303619\n",
      "Accuracy for romance with n=4: 0.8177858387363971\n",
      "Accuracy for romance with n=5: 0.8156150923995316\n",
      "\n",
      "Accuracy for humor with n=1: 0.8441115464392718\n",
      "Accuracy for humor with n=2: 0.8355381424291312\n",
      "Accuracy for humor with n=3: 0.8212030421756165\n",
      "Accuracy for humor with n=4: 0.8168241530306523\n",
      "Accuracy for humor with n=5: 0.8143811938234616\n",
      "\n"
     ]
    }
   ],
   "source": [
    "n_list = [1, 2, 3, 4, 5]\n",
    "accuracies = []\n",
    "train_category = 'news'\n",
    "test_categories = ['news', 'editorial', 'reviews', 'religion', 'hobbies', 'lore', 'belles_lettres', 'government', 'learned', 'fiction', 'mystery', 'science_fiction', 'adventure', 'romance', 'humor']\n",
    "all_accuracies = {}\n",
    "for test_category in test_categories:\n",
    "    accuracies = []\n",
    "    for n in n_list:\n",
    "        tagger = NgramTagger(n=n, train=brown.tagged_sents(categories=train_category), backoff=unigram_tagger)\n",
    "        accuracy = tagger.accuracy(brown.tagged_sents(categories=test_category))\n",
    "        accuracies.append(accuracy)\n",
    "        all_accuracies[test_category] = accuracies\n",
    "        print(f'Accuracy for {test_category} with n={n}: {accuracy}')\n",
    "    print('\\n')\n",
    "\n",
    "\n"
   ]
  },
  {
   "cell_type": "code",
   "execution_count": 45,
   "metadata": {},
   "outputs": [
    {
     "data": {
      "image/png": "[encoded data removed]",
      "text/plain": [
       "<Figure size 1000x600 with 1 Axes>"
      ]
     },
     "metadata": {},
     "output_type": "display_data"
    }
   ],
   "source": [
    "import matplotlib.pyplot as plt\n",
    "\n",
    "# increase the size of the plot\n",
    "plt.figure(figsize=(10, 6))\n",
    "for category in test_categories:\n",
    "    plt.plot(n_list, all_accuracies[category], label=category)\n",
    "plt.xlabel('n')\n",
    "plt.ylabel('Accuracy')\n",
    "plt.legend()\n",
    "plt.show()\n"
   ]
  },
  {
   "cell_type": "markdown",
   "metadata": {},
   "source": [
    "1. Evaluate the bigram tagger\n",
    "1. Make a function that receives a value of $n$ and a training set as parameters, and returns a PoS tagger with n-gram taggers for that $n$ with a successive backoff option that\n",
    "1. Make a figure showing how the accuracy increases in the Brown corpus when $n$ is increased."
   ]
  },
  {
   "cell_type": "markdown",
   "metadata": {},
   "source": [
    "## Exercise 6\n",
    "\n",
    "One measure of wordiness in a text is the lexical density. Lexical Density is a concept that comes from the idea that nouns and verbs convey meaning, and other words are only auxiliary. The Lexical Density is calculated for a sentence as the number of nouns and verbs, divided by the total number of words in the sentence.\n",
    "\n",
    "Make a function that receives a sentence (and possibly a PoS tagger) as inputs and returns the sentence's lexical density.\n",
    "\n"
   ]
  },
  {
   "cell_type": "code",
   "execution_count": 50,
   "metadata": {},
   "outputs": [
    {
     "name": "stdout",
     "output_type": "stream",
     "text": [
      "[('Now', 'RB'), ('that', 'CS'), ('he', 'PPS'), ('knew', 'VBD'), ('himself', 'PPL'), ('to', 'TO'), ('be', 'BE'), ('self', 'NN'), ('he', 'PPS'), ('was', 'BEDZ'), ('free', 'JJ'), ('to', 'TO'), ('grok', 'VB'), ('ever', 'QL'), ('closer', 'RBR'), ('to', 'IN'), ('his', 'PP$'), ('brothers', 'NNS'), (',', ','), ('merge', 'VB'), ('without', 'IN'), ('let', 'NN'), ('.', '.')]\n",
      "0.2608695652173913\n"
     ]
    }
   ],
   "source": [
    "def calculate_lexical_density(text):\n",
    "    # only nouns and verbs contribute to the lexical density\n",
    "    nouns = 0\n",
    "    verbs = 0\n",
    "    for _, tag in text:\n",
    "        if tag.startswith('N'):\n",
    "            nouns += 1\n",
    "        elif tag.startswith('V'):\n",
    "            verbs += 1\n",
    "    return (nouns + verbs) / len(text)\n",
    "\n",
    "# test the function\n",
    "text = brown.tagged_sents(categories='science_fiction')[0]\n",
    "print(text)\n",
    "lexical_density = calculate_lexical_density(text)\n",
    "print(lexical_density)\n"
   ]
  }
 ],
 "metadata": {
  "kernelspec": {
   "display_name": ".venv",
   "language": "python",
   "name": "python3"
  },
  "language_info": {
   "codemirror_mode": {
    "name": "ipython",
    "version": 3
   },
   "file_extension": ".py",
   "mimetype": "text/x-python",
   "name": "python",
   "nbconvert_exporter": "python",
   "pygments_lexer": "ipython3",
   "version": "3.12.4"
  }
 },
 "nbformat": 4,
 "nbformat_minor": 2
}
